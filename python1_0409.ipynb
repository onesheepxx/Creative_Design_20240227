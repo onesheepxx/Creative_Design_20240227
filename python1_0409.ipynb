{
 "cells": [
  {
   "cell_type": "code",
   "execution_count": 1,
   "id": "ca61ea12",
   "metadata": {},
   "outputs": [
    {
     "data": {
      "text/plain": [
       "123"
      ]
     },
     "execution_count": 1,
     "metadata": {},
     "output_type": "execute_result"
    }
   ],
   "source": [
    "123"
   ]
  },
  {
   "cell_type": "code",
   "execution_count": 2,
   "id": "46ebfa1d",
   "metadata": {},
   "outputs": [
    {
     "data": {
      "text/plain": [
       "int"
      ]
     },
     "execution_count": 2,
     "metadata": {},
     "output_type": "execute_result"
    }
   ],
   "source": [
    "type(123)"
   ]
  },
  {
   "cell_type": "code",
   "execution_count": 3,
   "id": "d28dc859",
   "metadata": {},
   "outputs": [
    {
     "data": {
      "text/plain": [
       "123.45"
      ]
     },
     "execution_count": 3,
     "metadata": {},
     "output_type": "execute_result"
    }
   ],
   "source": [
    "123.45"
   ]
  },
  {
   "cell_type": "code",
   "execution_count": 4,
   "id": "1bec1c1e",
   "metadata": {},
   "outputs": [
    {
     "data": {
      "text/plain": [
       "float"
      ]
     },
     "execution_count": 4,
     "metadata": {},
     "output_type": "execute_result"
    }
   ],
   "source": [
    "type(123.45)"
   ]
  },
  {
   "cell_type": "code",
   "execution_count": 5,
   "id": "ac5f88ca",
   "metadata": {},
   "outputs": [
    {
     "data": {
      "text/plain": [
       "str"
      ]
     },
     "execution_count": 5,
     "metadata": {},
     "output_type": "execute_result"
    }
   ],
   "source": [
    "type('123.45')"
   ]
  },
  {
   "cell_type": "code",
   "execution_count": 6,
   "id": "82cca306",
   "metadata": {},
   "outputs": [
    {
     "name": "stdout",
     "output_type": "stream",
     "text": [
      "hello world!\n"
     ]
    }
   ],
   "source": [
    "print('hello world!')"
   ]
  },
  {
   "cell_type": "code",
   "execution_count": 7,
   "id": "8fa58c93",
   "metadata": {},
   "outputs": [
    {
     "name": "stdout",
     "output_type": "stream",
     "text": [
      "123 123.45 123.45\n",
      "<class 'int'> <class 'float'> <class 'str'>\n"
     ]
    }
   ],
   "source": [
    "x = 123\n",
    "y = 123.45\n",
    "z = '123.45'\n",
    "print(x, y, z)\n",
    "print(type(x), type(y), type(z))"
   ]
  },
  {
   "cell_type": "code",
   "execution_count": 8,
   "id": "dbaeca03",
   "metadata": {},
   "outputs": [
    {
     "name": "stdout",
     "output_type": "stream",
     "text": [
      "<class 'str'>\n",
      "The result of 123+123.45=246.45\n"
     ]
    }
   ],
   "source": [
    "z = 'The result of ' + str(x) + \"+\" + str(y) + \"=\" + str(x + y)\n",
    "print(type(str(y)))\n",
    "print(z)"
   ]
  },
  {
   "cell_type": "code",
   "execution_count": 3,
   "id": "4c9c52c1",
   "metadata": {},
   "outputs": [
    {
     "name": "stdout",
     "output_type": "stream",
     "text": [
      "I am\n"
     ]
    }
   ],
   "source": [
    "z = 'I am from CUC.'\n",
    "print(z[0:4])"
   ]
  },
  {
   "cell_type": "code",
   "execution_count": 10,
   "id": "7de63e1a",
   "metadata": {},
   "outputs": [
    {
     "name": "stdout",
     "output_type": "stream",
     "text": [
      "I am from CUC.\n",
      "UC.\n"
     ]
    }
   ],
   "source": [
    "print(z[0:14])\n",
    "print(z[-3:])"
   ]
  },
  {
   "cell_type": "code",
   "execution_count": 4,
   "id": "14eec489",
   "metadata": {},
   "outputs": [
    {
     "name": "stdout",
     "output_type": "stream",
     "text": [
      "14\n",
      "I a\n",
      "UC\n",
      "CUC\n"
     ]
    }
   ],
   "source": [
    "print(len(z))\n",
    "print(z[0:3])\n",
    "print(z[-3:-1])\n",
    "print(z[10:13])"
   ]
  },
  {
   "cell_type": "code",
   "execution_count": 12,
   "id": "42ae3009",
   "metadata": {},
   "outputs": [
    {
     "name": "stdout",
     "output_type": "stream",
     "text": [
      "Princess Diana\n",
      "Princess Diana Princess Kate\n",
      "['Princess', 'Diana']\n"
     ]
    }
   ],
   "source": [
    "famous_person = 'Princess Diana'\n",
    "print(famous_person)\n",
    "famous_person2 = famous_person.replace('Diana', 'Kate')\n",
    "print(famous_person, famous_person2)\n",
    "print(famous_person.split())"
   ]
  },
  {
   "cell_type": "code",
   "execution_count": 14,
   "id": "e3994a83",
   "metadata": {},
   "outputs": [
    {
     "name": "stdout",
     "output_type": "stream",
     "text": [
      "Prince Charles\n",
      "PRINCE WILLIAM\n",
      "-1\n",
      "7\n"
     ]
    }
   ],
   "source": [
    "name = 'Prince Charles'\n",
    "print(name)\n",
    "name = name.replace('Charles', 'William')\n",
    "name = name.upper()\n",
    "print(name)\n",
    "print(name.find('Charles'))\n",
    "print(name.find('WILLIAM'))"
   ]
  },
  {
   "cell_type": "code",
   "execution_count": 15,
   "id": "cad663a0",
   "metadata": {},
   "outputs": [
    {
     "name": "stdout",
     "output_type": "stream",
     "text": [
      "3.14\n",
      "<class 'str'>\n"
     ]
    }
   ],
   "source": [
    "x = 3.14\n",
    "y = str(x)\n",
    "print(y)\n",
    "print(type(y))"
   ]
  },
  {
   "cell_type": "code",
   "execution_count": 16,
   "id": "88df330e",
   "metadata": {},
   "outputs": [
    {
     "name": "stdout",
     "output_type": "stream",
     "text": [
      "3.14\n",
      "3\n",
      "<class 'float'> <class 'int'>\n"
     ]
    }
   ],
   "source": [
    "x = 3.14\n",
    "y = str(x)\n",
    "z1 = float(y)\n",
    "print(z1)\n",
    "z2 = int(y[0:y.find('.')])\n",
    "print(z2)\n",
    "print(type(z1), type(z2))"
   ]
  },
  {
   "cell_type": "code",
   "execution_count": 1,
   "id": "d0ef0bc3",
   "metadata": {},
   "outputs": [
    {
     "name": "stdout",
     "output_type": "stream",
     "text": [
      "(1, 1.35, 2, 'cuc')\n",
      "[1, 1.35, 2, 'cuc']\n"
     ]
    }
   ],
   "source": [
    "tuple1 = (1, 1.35, 2, 'cuc')\n",
    "print(tuple1)\n",
    "list1 = [1, 1.35, 2, 'cuc']\n",
    "print(list1)"
   ]
  },
  {
   "cell_type": "code",
   "execution_count": 2,
   "id": "0e9b3e72",
   "metadata": {},
   "outputs": [
    {
     "name": "stdout",
     "output_type": "stream",
     "text": [
      "[1, 2, 3, 4, 5]\n"
     ]
    }
   ],
   "source": [
    "mylist = [1, 2, 3, 5, 4]\n",
    "print(sorted(mylist))"
   ]
  },
  {
   "cell_type": "code",
   "execution_count": 3,
   "id": "7b932841",
   "metadata": {},
   "outputs": [
    {
     "name": "stdout",
     "output_type": "stream",
     "text": [
      "[100, 95, 85, 60, 65, 70]\n",
      "60\n",
      "[100, 95, 85, 60, 65, 70, 50]\n"
     ]
    }
   ],
   "source": [
    "score_list = [100,95,85,60,65,70]\n",
    "print(score_list)\n",
    "print(score_list[3])\n",
    "score_list.append(50)\n",
    "print(score_list)"
   ]
  },
  {
   "cell_type": "code",
   "execution_count": 4,
   "id": "e117a0c8",
   "metadata": {},
   "outputs": [
    {
     "name": "stdout",
     "output_type": "stream",
     "text": [
      "[60, 65, 70]\n",
      "[100, 95, 85, 60, 65, 70]\n"
     ]
    }
   ],
   "source": [
    "del(score_list[6])\n",
    "print(score_list[3:7])\n",
    "print(score_list)"
   ]
  },
  {
   "cell_type": "code",
   "execution_count": 5,
   "id": "4fb3cc4c",
   "metadata": {},
   "outputs": [
    {
     "name": "stdout",
     "output_type": "stream",
     "text": [
      "[100, 95, 85, 60, 65, 70, [1, 2, 3, 'I am from CUC', True]]\n"
     ]
    }
   ],
   "source": [
    "score_list.append([1, 2, 3, 'I am from CUC', True])\n",
    "print(score_list)"
   ]
  },
  {
   "cell_type": "code",
   "execution_count": 6,
   "id": "2eaa5d4c",
   "metadata": {},
   "outputs": [
    {
     "name": "stdout",
     "output_type": "stream",
     "text": [
      "[93, 98, 90, 88, 73, 100, [1, 2, 3, 'I am from China', True], [11, 22, 33, [44, 55, 66]]]\n"
     ]
    }
   ],
   "source": [
    "second_list = [11, 22, 33]\n",
    "second_list.append([44, 55, 66])\n",
    "score_list.append(second_list)\n",
    "print(score_list)"
   ]
  },
  {
   "cell_type": "code",
   "execution_count": 7,
   "id": "de564567",
   "metadata": {},
   "outputs": [
    {
     "name": "stdout",
     "output_type": "stream",
     "text": [
      "[93, 98, 90, 88, 73, [1, 2, 3, 'I am from China', True], [11, 22, 33, [44, 55, 66]]]\n"
     ]
    }
   ],
   "source": [
    "score_list.remove(100)\n",
    "print(score_list)"
   ]
  },
  {
   "cell_type": "code",
   "execution_count": 8,
   "id": "46165fe3",
   "metadata": {},
   "outputs": [
    {
     "name": "stdout",
     "output_type": "stream",
     "text": [
      "{'Peter': 80, 'David': 90, 'Mary': 100}\n",
      "dict_keys(['Peter', 'David', 'Mary'])\n",
      "dict_values([80, 90, 100])\n",
      "90\n",
      "[{'Peter': 80, 'David': 90, 'Mary': 100}]\n"
     ]
    }
   ],
   "source": [
    "dict1 = {'Peter': 80, 'David': 90, 'Mary':100}\n",
    "print(dict1)\n",
    "print(dict1.keys())\n",
    "print(dict1.values())\n",
    "print(dict1['David'])\n",
    "score_list = []\n",
    "score_list.append(dict1)\n",
    "print(score_list)"
   ]
  },
  {
   "cell_type": "code",
   "execution_count": 9,
   "id": "b851e8e4",
   "metadata": {},
   "outputs": [
    {
     "name": "stdout",
     "output_type": "stream",
     "text": [
      "[{'Peter': 50, 'David': 60, 'Mary': 70}, {'Peter': 50, 'David': 70, 'Mary': 80}]\n"
     ]
    }
   ],
   "source": [
    "test1 = {'Peter': 50, 'David': 60, 'Mary': 70}\n",
    "assignment1 = {'Peter': 50, 'David': 70, 'Mary': 80}\n",
    "score_list = []\n",
    "score_list.append(test1)\n",
    "score_list.append(assignment1)\n",
    "print(score_list)"
   ]
  },
  {
   "cell_type": "code",
   "execution_count": 11,
   "id": "d6e2c338",
   "metadata": {},
   "outputs": [
    {
     "name": "stdout",
     "output_type": "stream",
     "text": [
      "{'Hello', 1, (1, 2, 3)}\n",
      "<class 'set'>\n"
     ]
    }
   ],
   "source": [
    "my_set = {1, 'Hello', (1, 2, 3)}\n",
    "print(my_set)\n",
    "print(type(my_set))"
   ]
  },
  {
   "cell_type": "code",
   "execution_count": 12,
   "id": "7a0b5c20",
   "metadata": {},
   "outputs": [
    {
     "name": "stdout",
     "output_type": "stream",
     "text": [
      "{1, 2, 3, 4, 5}\n"
     ]
    }
   ],
   "source": [
    "my_set = {1, 2, 2, 3, 4, 4, 5}\n",
    "print(my_set)"
   ]
  },
  {
   "cell_type": "code",
   "execution_count": 17,
   "id": "2e9d8597",
   "metadata": {},
   "outputs": [
    {
     "name": "stdout",
     "output_type": "stream",
     "text": [
      "1\n",
      "2\n",
      "3\n",
      "4\n",
      "5\n",
      "6\n",
      "7\n",
      "8\n",
      "9\n"
     ]
    }
   ],
   "source": [
    "i = 1\n",
    "for i in range(1, 10):\n",
    "    print(i)"
   ]
  },
  {
   "cell_type": "code",
   "execution_count": 20,
   "id": "dd9501e0",
   "metadata": {},
   "outputs": [
    {
     "name": "stdout",
     "output_type": "stream",
     "text": [
      "John makes 1950.\n",
      "Mike makes 3000.\n",
      "Mary makes 3250.\n",
      "Jane makes 4500.\n"
     ]
    }
   ],
   "source": [
    "hrs_list = [30, 40, 50, 60]\n",
    "rate_list = [65, 75, 65, 75]\n",
    "name_list = ['John', 'Mike', 'Mary', 'Jane']\n",
    "fee_list = []\n",
    "for number in range(len(name_list)):\n",
    "    hrs = hrs_list[number]\n",
    "    rate = rate_list[number]\n",
    "    fee = hrs * rate\n",
    "    fee_list.append(fee)\n",
    "    money_made = name_list[number] + ' makes ' + str(fee) + '.'\n",
    "    print(money_made)"
   ]
  },
  {
   "cell_type": "code",
   "execution_count": 21,
   "id": "9a60cae2",
   "metadata": {},
   "outputs": [
    {
     "name": "stdout",
     "output_type": "stream",
     "text": [
      "[['John', 'Mike', 'Mary', 'Jane'], [1950, 3000, 3250, 4500]]\n"
     ]
    }
   ],
   "source": [
    "money_list = []\n",
    "money_list.append(name_list)\n",
    "money_list.append(fee_list)\n",
    "print(money_list)"
   ]
  },
  {
   "cell_type": "code",
   "execution_count": 22,
   "id": "d8056985",
   "metadata": {},
   "outputs": [
    {
     "name": "stdout",
     "output_type": "stream",
     "text": [
      "0 red\n",
      "1 green\n",
      "2 Blue is printed.\n",
      "3 orange\n",
      "4 black\n",
      "This is done.\n"
     ]
    }
   ],
   "source": [
    "my_list = ['red', 'green', 'blue', 'orange', 'black']\n",
    "index = 0\n",
    "for i in my_list:\n",
    "    if i == 'blue':\n",
    "        print(index, 'Blue is printed.')\n",
    "        index +=1\n",
    "    else:\n",
    "        print(index, my_list[index])\n",
    "        index = index + 1\n",
    "print('This is done.')"
   ]
  },
  {
   "cell_type": "code",
   "execution_count": 23,
   "id": "ce7c918d",
   "metadata": {},
   "outputs": [
    {
     "name": "stdout",
     "output_type": "stream",
     "text": [
      "   Product ID Product Name   Color  Units Sold\n",
      "0           1      T-shirt    Blue         250\n",
      "1           2        Shirt   Green         300\n",
      "2           3        Jeans     Red         180\n",
      "3           4         Coat  Trench         200\n"
     ]
    }
   ],
   "source": [
    "import pandas as pd\n",
    "df1 = pd.DataFrame({\n",
    "    #Define dataframe as a dictionary object\n",
    "    'Product ID': [1, 2, 3, 4],\n",
    "    #Add product name and color\n",
    "    'Product Name': ['T-shirt', 'Shirt', 'Jeans', 'Coat'],\n",
    "    'Color': ['Blue', 'Green', 'Red', 'Trench'],\n",
    "    'Units Sold': [250, 300, 180, 200]\n",
    "})\n",
    "print(df1)"
   ]
  }
 ],
 "metadata": {
  "kernelspec": {
   "display_name": "Python 3 (ipykernel)",
   "language": "python",
   "name": "python3"
  },
  "language_info": {
   "codemirror_mode": {
    "name": "ipython",
    "version": 3
   },
   "file_extension": ".py",
   "mimetype": "text/x-python",
   "name": "python",
   "nbconvert_exporter": "python",
   "pygments_lexer": "ipython3",
   "version": "3.11.4"
  }
 },
 "nbformat": 4,
 "nbformat_minor": 5
}
